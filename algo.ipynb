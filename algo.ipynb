{
 "cells": [
  {
   "cell_type": "markdown",
   "metadata": {},
   "source": [
    "# Data Fetching"
   ]
  },
  {
   "cell_type": "code",
   "execution_count": 5,
   "metadata": {},
   "outputs": [],
   "source": [
    "import requests\n",
    "import pandas as pd\n",
    "import time\n",
    "\n",
    "def fetch_top_5000_coins():\n",
    "    \"\"\"Fetch the top 5000 coins by market cap using the /coins/markets endpoint.\"\"\"\n",
    "    url = \"https://api.coingecko.com/api/v3/coins/markets\"\n",
    "    all_coins = []\n",
    "    \n",
    "    for page in range(1, 21):  # 20 pages * 250 coins per page = 5000 coins\n",
    "        params = {\n",
    "            \"vs_currency\": \"usd\",\n",
    "            \"order\": \"market_cap_desc\",\n",
    "            \"category\": \"meme-token\",\n",
    "            \"per_page\": 250,\n",
    "            \"page\": page\n",
    "        }\n",
    "        response = requests.get(url, params=params)\n",
    "        if response.status_code == 200:\n",
    "            all_coins.extend(response.json())\n",
    "        else:\n",
    "            print(f\"Failed to fetch page {page}: {response.status_code}\")\n",
    "        time.sleep(16)  # Sleep to avoid hitting rate limits\n",
    "    \n",
    "    return all_coins\n",
    "\n",
    "# Step 1: Fetch top 5000 coins by market cap\n",
    "top_5000_coins = fetch_top_5000_coins()\n",
    "\n",
    "# Step 2: Extract coin IDs\n",
    "coin_ids = [coin['id'] for coin in top_5000_coins]"
   ]
  },
  {
   "cell_type": "markdown",
   "metadata": {},
   "source": [
    "# Adding Descriptions for Classification"
   ]
  },
  {
   "cell_type": "code",
   "execution_count": null,
   "metadata": {},
   "outputs": [
    {
     "name": "stdout",
     "output_type": "stream",
     "text": [
      "Saved top 5000 coins with descriptions to CSV.\n"
     ]
    }
   ],
   "source": [
    "headers = {'x-cg-pro-api-key': \"CG-FtwnDTUpog7Z3GPYYqxXxQDb\"}\n",
    "def fetch_coin_descriptions(coin_ids):\n",
    "    \"\"\"Fetch descriptions for each coin using the /coins/{id} endpoint.\"\"\"\n",
    "    descriptions = {}\n",
    "    \n",
    "    for coin_id in coin_ids:\n",
    "        response = requests.get(f\"https://pro-api.coingecko.com/api/v3/coins/{coin_id}\", headers=headers)\n",
    "        if response.status_code == 200:\n",
    "            data = response.json()\n",
    "            descriptions[coin_id] = data['description']['en']\n",
    "        else:\n",
    "            print(f\"Failed to fetch description for {coin_id}: {response.status_code}\")\n",
    "        time.sleep(0.5)  # Sleep to avoid rate limits\n",
    "    \n",
    "    return descriptions\n",
    "coin_descriptions = fetch_coin_descriptions(coin_ids)\n",
    "\n",
    "# Step 4: Combine market cap data with descriptions\n",
    "for coin in top_5000_coins:\n",
    "    coin['description'] = coin_descriptions.get(coin['id'], \"\")\n",
    "\n",
    "# Step 5: Convert to DataFrame and save to CSV\n",
    "df = pd.DataFrame(top_5000_coins)\n",
    "df = df.sort_values(by=\"market_cap\", ascending=False)  # Ensure sorting by market cap\n",
    "df.to_csv(\"top_5000_meme_coins.csv\", index=False)\n",
    "\n",
    "print(\"Saved top 5000 coins with descriptions to CSV.\")"
   ]
  },
  {
   "cell_type": "markdown",
   "metadata": {},
   "source": [
    "# Project"
   ]
  },
  {
   "cell_type": "code",
   "execution_count": 1,
   "metadata": {},
   "outputs": [
    {
     "ename": "",
     "evalue": "",
     "output_type": "error",
     "traceback": [
      "\u001b[1;31mThe kernel failed to start as the Python Environment 'Python 3.12.4' is no longer available. Consider selecting another kernel or refreshing the list of Python Environments."
     ]
    }
   ],
   "source": [
    "import pandas as pd\n",
    "import requests\n",
    "import json\n",
    "import numpy as np\n",
    "from sklearn.cluster import KMeans\n",
    "from sklearn.feature_extraction.text import TfidfVectorizer\n",
    "from sentence_transformers import SentenceTransformer\n",
    "from sklearn.preprocessing import normalize\n",
    "import nltk\n",
    "from nltk.corpus import stopwords\n",
    "import re\n",
    "from collections import defaultdict, Counter"
   ]
  },
  {
   "cell_type": "markdown",
   "metadata": {},
   "source": [
    "# Process Data"
   ]
  },
  {
   "cell_type": "code",
   "execution_count": 20,
   "metadata": {},
   "outputs": [
    {
     "name": "stderr",
     "output_type": "stream",
     "text": [
      "[nltk_data] Downloading package stopwords to\n",
      "[nltk_data]     C:\\Users\\natew\\AppData\\Roaming\\nltk_data...\n",
      "[nltk_data]   Package stopwords is already up-to-date!\n"
     ]
    }
   ],
   "source": [
    "\n",
    "df = pd.read_csv(\"top_5000_meme_coins.csv\")\n",
    "nltk.download('stopwords')\n",
    "stop_words = set(stopwords.words('english'))\n",
    "\n",
    "def preprocess_text(text):\n",
    "    text = text.lower()  \n",
    "    text = re.sub(r'[^a-z\\s]', '', text)  \n",
    "    tokens = text.split()\n",
    "    tokens = [word for word in tokens if word not in stop_words]  \n",
    "    return ' '.join(tokens)\n",
    "df['processed_description'] = [preprocess_text(desc) for desc in df['description']]"
   ]
  },
  {
   "cell_type": "markdown",
   "metadata": {},
   "source": [
    "# Build the model"
   ]
  },
  {
   "cell_type": "code",
   "execution_count": 15,
   "metadata": {},
   "outputs": [],
   "source": [
    "model = SentenceTransformer('all-MiniLM-L6-v2')\n",
    "embeddings = model.encode(preprocessed_descriptions)\n",
    "embeddings = normalize(embeddings)  "
   ]
  },
  {
   "cell_type": "code",
   "execution_count": 24,
   "metadata": {},
   "outputs": [],
   "source": [
    "from sklearn.decomposition import PCA\n",
    "\n",
    "pca = PCA(n_components=10, random_state=42)  # reduce dimensionality to decrease influence of common common words\n",
    "reduced_embeddings = pca.fit_transform(embeddings)"
   ]
  },
  {
   "cell_type": "code",
   "execution_count": 29,
   "metadata": {},
   "outputs": [],
   "source": [
    "n_clusters = 20\n",
    "kmeans = KMeans(n_clusters=n_clusters, random_state=42)\n",
    "labels = kmeans.fit_predict(reduced_embeddings)"
   ]
  },
  {
   "cell_type": "markdown",
   "metadata": {},
   "source": [
    "# Auto Assign Labels"
   ]
  },
  {
   "cell_type": "code",
   "execution_count": 30,
   "metadata": {},
   "outputs": [
    {
     "name": "stdout",
     "output_type": "stream",
     "text": [
      "clusters\n",
      "cluster 0: memecoin, meme, solana, community, cat\n",
      "cluster 1: blockchain, project, decentralized, token, community\n",
      "cluster 2: \n",
      "cluster 3: meme, community, token, romeo, memes\n",
      "cluster 4: community, crypto, coin, world, token\n",
      "cluster 5: token, meme, community, pepe, coin\n",
      "cluster 6: dog, cat, solana, doge, meme\n",
      "cluster 7: loading, ily, community, solana, pepe\n",
      "cluster 8: community, token, meme, solana, project\n",
      "cluster 9: dog, doge, meme, token, inu\n",
      "cluster 10: meme, coin, memecoin, crypto, token\n",
      "cluster 11: meme, community, crypto, token, coin\n",
      "cluster 12: community, project, meme, memecoin, token\n",
      "cluster 13: token, community, project, doge, blockchain\n",
      "cluster 14: blockchain, cat, community, crypto, solana\n",
      "cluster 15: meme, community, cat, token, project\n",
      "cluster 16: ai, agent, project, agents, users\n",
      "cluster 17: community, project, token, ecosystem, meme\n",
      "cluster 18: token, tokens, community, holders, liquidity\n",
      "cluster 19: kitty, keeps, spinning, community, pepe\n"
     ]
    }
   ],
   "source": [
    "df['cluster'] = labels  \n",
    "\n",
    "clustered_coins = df.groupby('cluster')\n",
    "\n",
    "cluster_keywords = {}\n",
    "for label, group in clustered_coins:\n",
    "    all_descriptions = ' '.join(group['processed_description'].tolist())\n",
    "    word_counts = Counter(all_descriptions.split())\n",
    "    common_words = [word for word, count in word_counts.most_common(5)]  # Top 5 common words\n",
    "    cluster_keywords[label] = common_words\n",
    "\n",
    "print(\"clusters\")\n",
    "for label, keywords in cluster_keywords.items():\n",
    "    print(f\"cluster {label}: {', '.join(keywords)}\")\n",
    "\n",
    "auto_meme_types = {\n",
    "    label: ' '.join(keywords) for label, keywords in cluster_keywords.items()\n",
    "}\n",
    "\n",
    "def get_meme_type(label):\n",
    "    return auto_meme_types.get(label, \"Unknown\")\n",
    "\n",
    "df['meme_type'] = df['cluster'].apply(get_meme_type)"
   ]
  }
 ],
 "metadata": {
  "kernelspec": {
   "display_name": "venv",
   "language": "python",
   "name": "python3"
  },
  "language_info": {
   "codemirror_mode": {
    "name": "ipython",
    "version": 3
   },
   "file_extension": ".py",
   "mimetype": "text/x-python",
   "name": "python",
   "nbconvert_exporter": "python",
   "pygments_lexer": "ipython3",
   "version": "3.12.4"
  }
 },
 "nbformat": 4,
 "nbformat_minor": 2
}
